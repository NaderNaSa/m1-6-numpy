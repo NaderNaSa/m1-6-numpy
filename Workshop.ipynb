{
 "cells": [
  {
   "cell_type": "markdown",
   "metadata": {},
   "source": [
    "## 1. What is the Average Height of US Presidents?\n",
    "\n",
    "Aggregates available in NumPy can be extremely useful for summarizing a set of values.\n",
    "As a simple example, let's consider the heights of all US presidents.\n",
    "\n",
    "This data is available in the file *president_heights.csv*, which is a simple comma-separated list of labels and values.\n",
    "\n",
    "Find the mean height, the standard deviation of height, and the president who is the smallest and tallest.\n",
    "\n",
    "You can use `pandas` to read in the file if you want, then cast the column to a `np.array`"
   ]
  },
  {
   "cell_type": "code",
   "execution_count": 34,
   "metadata": {},
   "outputs": [
    {
     "output_type": "stream",
     "name": "stdout",
     "text": [
      "Abraham Lincoln Is the tallest president.\nJames Madison is the shortest president.\nthe mean Height is :179\nthe stansdard deviation is: 7.0\n"
     ]
    }
   ],
   "source": [
    "#import csv\n",
    "import numpy as np\n",
    "import pandas as pd\n",
    "#import statistics as st\n",
    "path = 'data\\president_heights.csv'\n",
    "df = pd.read_csv(path,sep=',')\n",
    "\n",
    "arr = np.array(df)\n",
    "h_arr = arr[:,2]\n",
    "CI =2\n",
    "sorted_arr = arr[arr[:,CI].argsort()]\n",
    "print(arr[arr[:,2].argmax(),1],\"Is the tallest president.\")\n",
    "print(arr[arr[:,2].argmin(),1],\"is the shortest president.\")\n",
    "print(f\"the mean Height is :{int(h_arr.mean())}\")\n",
    "print(f\"the stansdard deviation is: {round(np.std(h_arr))}\")"
   ]
  },
  {
   "cell_type": "code",
   "execution_count": 3,
   "metadata": {},
   "outputs": [
    {
     "output_type": "stream",
     "name": "stdout",
     "text": [
      "the mean Height is :179\nthe shortest President is : [4 'James Madison' 163]\nthe talest President is : [36 'Lyndon B. Johnson' 193]\nthe stansdard deviation is: 6.931843442745893\n"
     ]
    }
   ],
   "source": [
    "print(f\"the mean Height is :{int(h_arr.mean())}\")\n",
    "print(f\"the shortest President is : {sorted_arr[0]}\")\n",
    "print(f\"the talest President is : {sorted_arr[-1]}\")\n",
    "\n",
    "\n"
   ]
  },
  {
   "cell_type": "markdown",
   "metadata": {},
   "source": [
    "# Exercise 2\n",
    "\n",
    "Recall the polynomial formula\n",
    "\n",
    "$$\n",
    "p(x) = a_0 + a_1 x + a_2 x^2 + \\cdots a_N x^N = \\sum_{n=0}^N a_n x^n \\tag{1}\n",
    "$$\n",
    "\n",
    "In the **math functions workshop**, you wrote a simple function `p(x, coeff)` to evaluate it without thinking about efficiency.\n",
    "\n",
    "Now write a new function that does the same job, but uses NumPy arrays and array operations for its computations, rather than any form of Python loop.\n",
    "\n",
    "(This is already implemented in `np.poly1d`, but use that only to test your function)\n",
    "\n",
    "- Hint: Use `np.cumprod()`  \n"
   ]
  },
  {
   "cell_type": "code",
   "execution_count": 15,
   "metadata": {},
   "outputs": [],
   "source": [
    "def p(x,coeff):\n",
    "    xarr = np.array(x)\n",
    "    carr = np.array(coeff)\n",
    "    return np.cumsum(carr*(xarr**range(len(carr))))[-1]"
   ]
  },
  {
   "cell_type": "code",
   "execution_count": 16,
   "metadata": {},
   "outputs": [
    {
     "output_type": "execute_result",
     "data": {
      "text/plain": [
       "32"
      ]
     },
     "metadata": {},
     "execution_count": 16
    }
   ],
   "source": [
    "p([5],[2,1,1])"
   ]
  },
  {
   "cell_type": "markdown",
   "metadata": {},
   "source": [
    "## Exercise 3 Softmax\n",
    "\n",
    "Read in `data/iris.csv` and compute the [softmax]() of the sepal length. The formula for the softmax function $\\sigma(x)$ for a vector $x = \\{x_0, x_1, ..., x_{n-1}\\}$ is\n",
    "    .$$\\sigma(x)_j = \\frac{e^{x_j}}{\\sum_k e^{x_k}}$$\n",
    "\n",
    "\n",
    "Your result should be equal to the output of `scipy.special.softmax`"
   ]
  },
  {
   "cell_type": "code",
   "execution_count": 37,
   "metadata": {},
   "outputs": [
    {
     "output_type": "stream",
     "name": "stdout",
     "text": [
      "[0.00221959 0.00181724 0.00148783 0.00134625 0.00200836 0.00299613\n 0.00134625 0.00200836 0.00110221 0.00181724 0.00299613 0.00164431\n 0.00164431 0.00099732 0.0044697  0.00404435 0.00299613 0.00221959\n 0.00404435 0.00221959 0.00299613 0.00221959 0.00134625 0.00221959\n 0.00164431 0.00200836 0.00200836 0.00245302 0.00245302 0.00148783\n 0.00164431 0.00299613 0.00245302 0.00331123 0.00181724 0.00200836\n 0.00331123 0.00181724 0.00110221 0.00221959 0.00200836 0.00121813\n 0.00110221 0.00200836 0.00221959 0.00164431 0.00221959 0.00134625\n 0.00271101 0.00200836 0.01483991 0.00814432 0.01342771 0.00331123\n 0.00900086 0.00404435 0.00736928 0.00181724 0.00994749 0.00245302\n 0.00200836 0.00493978 0.0054593  0.00603346 0.00365948 0.01099368\n 0.00365948 0.0044697  0.006668   0.00365948 0.00493978 0.00603346\n 0.00736928 0.00603346 0.00814432 0.00994749 0.01214989 0.01099368\n 0.0054593  0.00404435 0.00331123 0.00331123 0.0044697  0.0054593\n 0.00299613 0.0054593  0.01099368 0.00736928 0.00365948 0.00331123\n 0.00331123 0.00603346 0.0044697  0.00200836 0.00365948 0.00404435\n 0.00404435 0.006668   0.00221959 0.00404435 0.00736928 0.0044697\n 0.01640064 0.00736928 0.00900086 0.02704008 0.00181724 0.02003179\n 0.01099368 0.01812551 0.00900086 0.00814432 0.01214989 0.00404435\n 0.0044697  0.00814432 0.00900086 0.02988391 0.02988391 0.0054593\n 0.01342771 0.00365948 0.02988391 0.00736928 0.01099368 0.01812551\n 0.006668   0.00603346 0.00814432 0.01812551 0.02213855 0.0365003\n 0.00814432 0.00736928 0.00603346 0.02988391 0.00736928 0.00814432\n 0.0054593  0.01342771 0.01099368 0.01342771 0.0044697  0.01214989\n 0.01099368 0.01099368 0.00736928 0.00900086 0.006668   0.00493978]\n"
     ]
    }
   ],
   "source": [
    "import scipy as sc\n",
    "import pandas as pd\n",
    "df = pd.read_csv('data/iris.csv')\n",
    "\n",
    "\n",
    "\n",
    "arr = np.array(df)\n",
    "sepal = np.array(arr[:,0],dtype=float)\n",
    "# Verification code ==>   print(sc.special.softmax(sepal))\n",
    "\n",
    "\n",
    "print(np.exp(sepal) / np.sum(np.exp(sepal)))\n"
   ]
  },
  {
   "cell_type": "markdown",
   "metadata": {},
   "source": [
    "## Exercise 4: unique counts\n",
    "\n",
    "\n",
    "Compute the counts of unique values row-wise.\n",
    "\n",
    "Input:\n",
    "```\n",
    "np.random.seed(100)\n",
    "arr = np.random.randint(1,11,size=(6, 10))\n",
    "arr\n",
    "> array([[ 9,  9,  4,  8,  8,  1,  5,  3,  6,  3],\n",
    ">        [ 3,  3,  2,  1,  9,  5,  1, 10,  7,  3],\n",
    ">        [ 5,  2,  6,  4,  5,  5,  4,  8,  2,  2],\n",
    ">        [ 8,  8,  1,  3, 10, 10,  4,  3,  6,  9],\n",
    ">        [ 2,  1,  8,  7,  3,  1,  9,  3,  6,  2],\n",
    ">        [ 9,  2,  6,  5,  3,  9,  4,  6,  1, 10]])\n",
    "```\n",
    "Desired Output:\n",
    "```\n",
    "> [[1, 0, 2, 1, 1, 1, 0, 2, 2, 0],\n",
    ">  [2, 1, 3, 0, 1, 0, 1, 0, 1, 1],\n",
    ">  [0, 3, 0, 2, 3, 1, 0, 1, 0, 0],\n",
    ">  [1, 0, 2, 1, 0, 1, 0, 2, 1, 2],\n",
    ">  [2, 2, 2, 0, 0, 1, 1, 1, 1, 0],\n",
    ">  [1, 1, 1, 1, 1, 2, 0, 0, 2, 1]]\n",
    "```\n",
    "Output contains 10 columns representing numbers from 1 to 10. The values are the counts of the numbers in the respective rows.\n",
    "For example, Cell(0,2) has the value 2, which means, the number 3 occurs exactly 2 times in the 1st row."
   ]
  },
  {
   "cell_type": "code",
   "execution_count": 1,
   "metadata": {},
   "outputs": [
    {
     "output_type": "stream",
     "name": "stdout",
     "text": [
      "[[ 9  9  4  8  8  1  5  3  6  3]\n [ 3  3  2  1  9  5  1 10  7  3]\n [ 5  2  6  4  5  5  4  8  2  2]\n [ 8  8  1  3 10 10  4  3  6  9]\n [ 2  1  8  7  3  1  9  3  6  2]\n [ 9  2  6  5  3  9  4  6  1 10]]\n[[1 0 2 1 1 1 0 2 2 0]\n [2 1 3 0 1 0 1 0 1 1]\n [0 3 0 2 3 1 0 1 0 0]\n [1 0 2 1 0 1 0 2 1 2]\n [2 2 2 0 0 1 1 1 1 0]\n [1 1 1 1 1 2 0 0 2 1]]\n"
     ]
    }
   ],
   "source": [
    "import numpy as np\n",
    "np.random.seed(100)\n",
    "arr = np.random.randint(1,11,size=(6, 10))\n",
    "arr_result = np.zeros((6,10),dtype=int)\n",
    "print(arr)\n",
    "\n",
    "\n",
    "for i in range(0,6):\n",
    "    for j in range(0,10):\n",
    "        val2 = arr[i,:]\n",
    "        arr_result[i,j] =  np.count_nonzero (np.where(val2==j+1,val2,j+1==val2))\n",
    "\n",
    "print(arr_result)"
   ]
  },
  {
   "cell_type": "markdown",
   "metadata": {},
   "source": [
    "## Exercise 5: One-Hot encodings\n",
    "\n",
    "Compute the one-hot encodings (AKA dummy binary variables) for each unique value in the array.\n",
    "\n",
    "Input:\n",
    "```\n",
    "np.random.seed(101) \n",
    "arr = np.random.randint(1,4, size=6)\n",
    "arr\n",
    "#> array([2, 3, 2, 2, 2, 1])\n",
    "```\n",
    "Output:\n",
    "```\n",
    "#> array([[ 0.,  1.,  0.],\n",
    "#>        [ 0.,  0.,  1.],\n",
    "#>        [ 0.,  1.,  0.],\n",
    "#>        [ 0.,  1.,  0.],\n",
    "#>        [ 0.,  1.,  0.],\n",
    "#>        [ 1.,  0.,  0.]])\n",
    "```"
   ]
  },
  {
   "cell_type": "code",
   "execution_count": 12,
   "metadata": {},
   "outputs": [
    {
     "output_type": "stream",
     "name": "stdout",
     "text": [
      "[2 3 2 2 2 1]\n[[0. 1. 0.]\n [0. 0. 1.]\n [0. 1. 0.]\n [0. 1. 0.]\n [0. 1. 0.]\n [1. 0. 0.]]\n"
     ]
    }
   ],
   "source": [
    "import numpy as np\n",
    "np.random.seed(101) \n",
    "arr = np.random.randint(1,4, size=6)\n",
    "arr2 = np.array([1,2,3])\n",
    "arr_result = np.zeros((6,3),dtype=float)\n",
    "print(arr)\n",
    "\n",
    "for i in range(len(arr)):\n",
    "    for j in range(0,3):\n",
    "        val2 = arr[i]\n",
    "        arr_result[i,:] = np.where(arr2==val2,1,val2 ==arr2)\n",
    "        \n",
    "print(arr_result)\n"
   ]
  },
  {
   "cell_type": "code",
   "execution_count": null,
   "metadata": {},
   "outputs": [],
   "source": []
  },
  {
   "cell_type": "markdown",
   "metadata": {},
   "source": [
    "## Exercise 6\n",
    "\n",
    "Let `q` be a NumPy array of length `n` with `q.sum() == 1`.\n",
    "\n",
    "Suppose that `q` represents a [probability mass function](https://en.wikipedia.org/wiki/Probability_mass_function) over a statistical distribution. Recall that a distribution is an array of probabilities of events.\n",
    "\n",
    "We want to generate a discrete random variable $ x $ such that $ \\mathbb P\\{x = i\\} = q_i $.\n",
    "\n",
    "In other words, `x` takes values in `range(len(q))` and `x = i` with probability `q[i]`.\n",
    "\n",
    "The standard (inverse transform) algorithm is as follows:\n",
    "\n",
    "- Divide the unit interval $ [0, 1] $ into $ n $ subintervals $ I_0, I_1, \\ldots, I_{n-1} $ such that the length of $ I_i $ is $ q_i $.  \n",
    "- Draw a uniform random variable $ U $ on $ [0, 1] $ and return the $ i $ such that $ U \\in I_i $.  \n",
    "\n",
    "\n",
    "The probability of drawing $ i $ is the length of $ I_i $, which is equal to $ q_i $.\n",
    "\n",
    "We can implement the algorithm as follows\n",
    "\n",
    "```python\n",
    "from random import uniform\n",
    "\n",
    "def sample(q):\n",
    "    a = 0.0\n",
    "    U = uniform(0, 1)\n",
    "    for i in range(len(q)):\n",
    "        if a < U <= a + q[i]:\n",
    "            return i\n",
    "        a = a + q[i]\n",
    "```\n",
    "\n",
    "If you can’t see how this works, try thinking through the flow for a simple example, such as `q = [0.25, 0.75]`\n",
    "It helps to sketch the intervals on paper.\n",
    "\n",
    "**Your exercise is to speed it up using NumPy, avoiding explicit loops**\n",
    "\n",
    "- Hint: Use `np.searchsorted` and `np.cumsum`  \n",
    "\n",
    "\n",
    "If you can, implement the functionality as a class called `DiscreteRV`, where\n",
    "\n",
    "- the data for an instance of the class is the vector of probabilities `q`  \n",
    "- the class has a `draw()` method, which returns one draw according to the algorithm described above  \n",
    "\n",
    "\n",
    "If you can, write the method so that `draw(k)` returns `k` draws from `q`."
   ]
  },
  {
   "cell_type": "code",
   "execution_count": 24,
   "metadata": {},
   "outputs": [
    {
     "output_type": "execute_result",
     "data": {
      "text/plain": [
       "1"
      ]
     },
     "metadata": {},
     "execution_count": 24
    }
   ],
   "source": [
    "np.searchsorted([1,2,3],2)"
   ]
  },
  {
   "cell_type": "code",
   "execution_count": 39,
   "metadata": {},
   "outputs": [],
   "source": [
    "from random import uniform\n",
    "import numpy as np\n",
    "class DiscreteRV():\n",
    "    def __init__(self,q):\n",
    "        self.q = q\n",
    "    \n",
    "    def draw(self):\n",
    "        u = uniform(0,1)\n",
    "        #print(u)\n",
    "        k = np.searchsorted( np.cumsum(self.q), u)\n",
    "        \n",
    "        return k\n"
   ]
  },
  {
   "cell_type": "code",
   "execution_count": 40,
   "metadata": {},
   "outputs": [
    {
     "output_type": "execute_result",
     "data": {
      "text/plain": [
       "2"
      ]
     },
     "metadata": {},
     "execution_count": 40
    }
   ],
   "source": [
    "c= DiscreteRV([0.25, 0.25, 0.5])\n",
    "c\n",
    "c.draw()"
   ]
  },
  {
   "cell_type": "code",
   "execution_count": 54,
   "metadata": {},
   "outputs": [],
   "source": [
    "from random import uniform\n",
    "\n",
    "def sample(q):\n",
    "    a = 0.0\n",
    "    U = uniform(0, 1)\n",
    "    print(U)\n",
    "    for i in range(len(q)):\n",
    "        if a < U <= a + q[i]:\n",
    "            return i\n",
    "        a = a + q[i]"
   ]
  },
  {
   "cell_type": "code",
   "execution_count": 61,
   "metadata": {},
   "outputs": [
    {
     "output_type": "stream",
     "name": "stdout",
     "text": [
      "0.3134409964129311\n"
     ]
    },
    {
     "output_type": "execute_result",
     "data": {
      "text/plain": [
       "1"
      ]
     },
     "metadata": {},
     "execution_count": 61
    }
   ],
   "source": [
    "#sample ([0.25, 0.75])\n",
    "sample ([0.25, 0.25, 0.5])"
   ]
  },
  {
   "cell_type": "markdown",
   "metadata": {},
   "source": [
    "## Exercise 7 Peaks\n",
    "\n",
    "Find all the peaks in a 1D numpy array a. Peaks are points surrounded by smaller values on both sides.\n",
    "\n",
    "Input:\n",
    "```\n",
    "a = np.array([1, 3, 7, 1, 2, 6, 0, 1])\n",
    "```\n",
    "Desired Output:\n",
    "```\n",
    "#> array([2, 5])\n",
    "```\n",
    "where, 2 and 5 are the positions of peak values 7 and 6.\n",
    "\n",
    "### 1. Solve this usign a regular python for loop\n",
    "\n",
    "### 2. Solve this using no loops and only numpy functions"
   ]
  },
  {
   "cell_type": "code",
   "execution_count": 48,
   "metadata": {},
   "outputs": [
    {
     "output_type": "stream",
     "name": "stdout",
     "text": [
      "[2 5]\n"
     ]
    }
   ],
   "source": [
    "##    1     \n",
    "import numpy as np\n",
    "a = np.array([1, 3, 7, 1, 2, 6, 0 ,1])\n",
    "b = np.array([],dtype=int)\n",
    "for i in range(len(a)-1):\n",
    "    if a[i+1] < a[i] > a[i-1] :\n",
    "        b = np.append(b,i)\n",
    "\n",
    "print(b)"
   ]
  },
  {
   "cell_type": "code",
   "execution_count": 49,
   "metadata": {},
   "outputs": [
    {
     "output_type": "stream",
     "name": "stdout",
     "text": [
      "[[2]\n [5]]\n"
     ]
    }
   ],
   "source": [
    "##     2\n",
    "a = np.array([1, 3, 7, 1, 2, 6, 0, 1])\n",
    "#a = np.array([1, 3, 7, 1, 2, 6, 0, 1,4,1,5 ,4])\n",
    "print( np.argwhere((np.logical_and(a[1:-1]>a[0:-2],a[1:-1]>a[2:] ))==True)+1)\n"
   ]
  },
  {
   "cell_type": "code",
   "execution_count": 45,
   "metadata": {},
   "outputs": [
    {
     "output_type": "stream",
     "name": "stdout",
     "text": [
      "[ 2 -1]\n"
     ]
    }
   ],
   "source": [
    "#import numpy as np\n",
    "#print(np.diff([1,3,2]))\n",
    "\n"
   ]
  },
  {
   "cell_type": "code",
   "execution_count": 74,
   "metadata": {},
   "outputs": [
    {
     "output_type": "stream",
     "name": "stdout",
     "text": [
      "[1 3 7 1 2 6] [3 7 1 2 6 0] [7 1 2 6 0 1]\n"
     ]
    },
    {
     "output_type": "execute_result",
     "data": {
      "text/plain": [
       "array([[2],\n",
       "       [5]], dtype=int64)"
      ]
     },
     "metadata": {},
     "execution_count": 74
    }
   ],
   "source": [
    "##    2 detailed\n",
    "#import numpy as np\n",
    "aa = np.array([1, 3, 7, 1, 2, 6, 0, 1])\n",
    "result = np.array((8),dtype=bool)\n",
    "result = np.array([],dtype=bool)\n",
    "a=aa[0:6]\n",
    "b=aa[1:7]\n",
    "c=aa[2:8] \n",
    "print(a,b,c)\n",
    "result = np.logical_and(b>a,b>c)\n",
    "fr= np.argwhere(result==True)\n",
    "fr+1\n"
   ]
  },
  {
   "cell_type": "code",
   "execution_count": null,
   "metadata": {},
   "outputs": [],
   "source": []
  }
 ],
 "metadata": {
  "date": 1597540028.6350708,
  "filename": "numpy.rst",
  "kernelspec": {
   "display_name": "Python 3",
   "language": "python",
   "name": "python3"
  },
  "language_info": {
   "codemirror_mode": {
    "name": "ipython",
    "version": 3
   },
   "file_extension": ".py",
   "mimetype": "text/x-python",
   "name": "python",
   "nbconvert_exporter": "python",
   "pygments_lexer": "ipython3",
   "version": "3.8.3-final"
  },
  "next_doc": {
   "link": "matplotlib",
   "title": "Matplotlib"
  },
  "prev_doc": {
   "link": "need_for_speed",
   "title": "Python for Scientific Computing"
  },
  "title": "NumPy"
 },
 "nbformat": 4,
 "nbformat_minor": 2
}